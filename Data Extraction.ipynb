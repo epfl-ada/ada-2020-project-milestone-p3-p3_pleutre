{
 "cells": [
  {
   "cell_type": "markdown",
   "metadata": {},
   "source": [
    "## Data extraction\n",
    "The goal of this notebook is simply to extract all data available in the data folder and aggregate these data into a single panda Dataframe"
   ]
  },
  {
   "cell_type": "code",
   "execution_count": 1,
   "metadata": {},
   "outputs": [],
   "source": [
    "import pandas as pd\n",
    "%matplotlib inline\n",
    "from scipy import stats\n",
    "import numpy as np\n",
    "import seaborn as sns\n",
    "import matplotlib.pyplot as plt"
   ]
  },
  {
   "cell_type": "code",
   "execution_count": 2,
   "metadata": {},
   "outputs": [
    {
     "name": "stdout",
     "output_type": "stream",
     "text": [
      "year_borough_grocery.csv\n"
     ]
    }
   ],
   "source": [
    "import os\n",
    "\n",
    "data_path=\"./data/all/\"\n",
    "files = os.listdir(data_path)\n",
    "#list all the csv files availables in the data directory\n",
    "files_csv = [i for i in files if i.endswith('.csv')]\n",
    "print(files_csv[0])"
   ]
  },
  {
   "cell_type": "code",
   "execution_count": 3,
   "metadata": {},
   "outputs": [],
   "source": [
    "def extract_agg_level(filename:str):\n",
    "    '''Extract the aggreation level (borough,lsoa,msoa) from a given file name'''\n",
    "    start=filename.find('_')+1\n",
    "    stop=filename[start:].find('_')+start\n",
    "    return filename[start:stop]\n",
    "\n",
    "def create_dataframe(filename:str):\n",
    "    '''Create a panda dataframe containing the data from the given file (filename) and add two columns : \n",
    "        the month and the aggregation level of the data'''\n",
    "    \n",
    "    month=filename[:3]\n",
    "    agg_level=extract_agg_level(filename)\n",
    "    df=pd.read_csv(data_path+filename,usecols=['area_id','energy_tot', 'fat', 'saturate', 'sugar', 'protein', 'carb', 'fibre', 'h_nutrients_calories'])\n",
    "    df['month']=month\n",
    "    df['agg_level']=agg_level\n",
    "    return df\n",
    "    "
   ]
  },
  {
   "cell_type": "code",
   "execution_count": 4,
   "metadata": {},
   "outputs": [
    {
     "data": {
      "text/html": [
       "<div>\n",
       "<style scoped>\n",
       "    .dataframe tbody tr th:only-of-type {\n",
       "        vertical-align: middle;\n",
       "    }\n",
       "\n",
       "    .dataframe tbody tr th {\n",
       "        vertical-align: top;\n",
       "    }\n",
       "\n",
       "    .dataframe thead th {\n",
       "        text-align: right;\n",
       "    }\n",
       "</style>\n",
       "<table border=\"1\" class=\"dataframe\">\n",
       "  <thead>\n",
       "    <tr style=\"text-align: right;\">\n",
       "      <th></th>\n",
       "      <th>area_id</th>\n",
       "      <th>fat</th>\n",
       "      <th>saturate</th>\n",
       "      <th>sugar</th>\n",
       "      <th>protein</th>\n",
       "      <th>carb</th>\n",
       "      <th>fibre</th>\n",
       "      <th>energy_tot</th>\n",
       "      <th>h_nutrients_calories</th>\n",
       "      <th>month</th>\n",
       "      <th>agg_level</th>\n",
       "    </tr>\n",
       "  </thead>\n",
       "  <tbody>\n",
       "    <tr>\n",
       "      <th>0</th>\n",
       "      <td>E09000001</td>\n",
       "      <td>8.472985</td>\n",
       "      <td>3.361599</td>\n",
       "      <td>9.278065</td>\n",
       "      <td>5.253333</td>\n",
       "      <td>15.779639</td>\n",
       "      <td>1.619850</td>\n",
       "      <td>165.851751</td>\n",
       "      <td>1.618208</td>\n",
       "      <td>yea</td>\n",
       "      <td>borough</td>\n",
       "    </tr>\n",
       "    <tr>\n",
       "      <th>1</th>\n",
       "      <td>E09000002</td>\n",
       "      <td>9.209959</td>\n",
       "      <td>3.596834</td>\n",
       "      <td>10.793244</td>\n",
       "      <td>5.193872</td>\n",
       "      <td>19.784988</td>\n",
       "      <td>1.590335</td>\n",
       "      <td>187.174390</td>\n",
       "      <td>1.545272</td>\n",
       "      <td>yea</td>\n",
       "      <td>borough</td>\n",
       "    </tr>\n",
       "    <tr>\n",
       "      <th>2</th>\n",
       "      <td>E09000003</td>\n",
       "      <td>8.594464</td>\n",
       "      <td>3.407353</td>\n",
       "      <td>9.530548</td>\n",
       "      <td>5.129627</td>\n",
       "      <td>17.025950</td>\n",
       "      <td>1.638639</td>\n",
       "      <td>170.655504</td>\n",
       "      <td>1.581507</td>\n",
       "      <td>yea</td>\n",
       "      <td>borough</td>\n",
       "    </tr>\n",
       "    <tr>\n",
       "      <th>3</th>\n",
       "      <td>E09000004</td>\n",
       "      <td>9.119180</td>\n",
       "      <td>3.466346</td>\n",
       "      <td>10.941085</td>\n",
       "      <td>5.304496</td>\n",
       "      <td>19.997105</td>\n",
       "      <td>1.657118</td>\n",
       "      <td>187.754791</td>\n",
       "      <td>1.551703</td>\n",
       "      <td>yea</td>\n",
       "      <td>borough</td>\n",
       "    </tr>\n",
       "    <tr>\n",
       "      <th>4</th>\n",
       "      <td>E09000005</td>\n",
       "      <td>8.962466</td>\n",
       "      <td>3.559913</td>\n",
       "      <td>10.148610</td>\n",
       "      <td>5.132915</td>\n",
       "      <td>18.726476</td>\n",
       "      <td>1.585978</td>\n",
       "      <td>180.510586</td>\n",
       "      <td>1.555736</td>\n",
       "      <td>yea</td>\n",
       "      <td>borough</td>\n",
       "    </tr>\n",
       "  </tbody>\n",
       "</table>\n",
       "</div>"
      ],
      "text/plain": [
       "     area_id       fat  saturate      sugar   protein       carb     fibre  \\\n",
       "0  E09000001  8.472985  3.361599   9.278065  5.253333  15.779639  1.619850   \n",
       "1  E09000002  9.209959  3.596834  10.793244  5.193872  19.784988  1.590335   \n",
       "2  E09000003  8.594464  3.407353   9.530548  5.129627  17.025950  1.638639   \n",
       "3  E09000004  9.119180  3.466346  10.941085  5.304496  19.997105  1.657118   \n",
       "4  E09000005  8.962466  3.559913  10.148610  5.132915  18.726476  1.585978   \n",
       "\n",
       "   energy_tot  h_nutrients_calories month agg_level  \n",
       "0  165.851751              1.618208   yea   borough  \n",
       "1  187.174390              1.545272   yea   borough  \n",
       "2  170.655504              1.581507   yea   borough  \n",
       "3  187.754791              1.551703   yea   borough  \n",
       "4  180.510586              1.555736   yea   borough  "
      ]
     },
     "execution_count": 4,
     "metadata": {},
     "output_type": "execute_result"
    }
   ],
   "source": [
    "#extract and aggregate all the data from the data folder\n",
    "all_data=[]\n",
    "for file_name in files_csv:\n",
    "    all_data.append(create_dataframe(file_name))\n",
    "result=pd.concat(all_data)\n",
    "result.head()"
   ]
  },
  {
   "cell_type": "code",
   "execution_count": 5,
   "metadata": {},
   "outputs": [],
   "source": [
    "result.to_csv('data/tesco.csv',index=False)"
   ]
  },
  {
   "cell_type": "code",
   "execution_count": null,
   "metadata": {},
   "outputs": [],
   "source": []
  }
 ],
 "metadata": {
  "kernelspec": {
   "display_name": "Python 3",
   "language": "python",
   "name": "python3"
  },
  "language_info": {
   "codemirror_mode": {
    "name": "ipython",
    "version": 3
   },
   "file_extension": ".py",
   "mimetype": "text/x-python",
   "name": "python",
   "nbconvert_exporter": "python",
   "pygments_lexer": "ipython3",
   "version": "3.7.9"
  },
  "toc": {
   "base_numbering": 1,
   "nav_menu": {},
   "number_sections": true,
   "sideBar": true,
   "skip_h1_title": false,
   "title_cell": "Table of Contents",
   "title_sidebar": "Contents",
   "toc_cell": false,
   "toc_position": {},
   "toc_section_display": true,
   "toc_window_display": false
  }
 },
 "nbformat": 4,
 "nbformat_minor": 4
}
