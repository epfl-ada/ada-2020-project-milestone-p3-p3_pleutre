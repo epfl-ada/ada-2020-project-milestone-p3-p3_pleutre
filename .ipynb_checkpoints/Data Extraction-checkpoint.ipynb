{
 "cells": [
  {
   "cell_type": "markdown",
   "metadata": {},
   "source": [
    "## Data extraction\n",
    "The goal of this notebook is simply to extract all data available in the data folder and aggregate these data into a single panda Dataframe"
   ]
  },
  {
   "cell_type": "code",
   "execution_count": null,
   "metadata": {},
   "outputs": [],
   "source": [
    "import pandas as pd\n",
    "%matplotlib inline\n",
    "from scipy import stats\n",
    "import numpy as np\n",
    "import seaborn as sns\n",
    "import matplotlib.pyplot as plt"
   ]
  },
  {
   "cell_type": "code",
   "execution_count": 82,
   "metadata": {},
   "outputs": [
    {
     "name": "stdout",
     "output_type": "stream",
     "text": [
      "Apr_borough_grocery.csv\n"
     ]
    }
   ],
   "source": [
    "import os\n",
    "\n",
    "data_path=\"C:/Users/Augustin/Desktop/ADA/P3/ada-2020-project-milestone-p3-p3_pleutre/data/all/\"\n",
    "files = os.listdir(data_path)\n",
    "#list all the csv files availables in the data directory\n",
    "files_csv = [i for i in files if i.endswith('.csv')]\n",
    "print(files_csv[0])"
   ]
  },
  {
   "cell_type": "code",
   "execution_count": 83,
   "metadata": {},
   "outputs": [],
   "source": [
    "def extract_agg_level(filename:str):\n",
    "    '''Extract the aggreation level (borough,lsoa,msoa) from a given file name'''\n",
    "    start=filename.find('_')+1\n",
    "    stop=filename[start:].find('_')+start\n",
    "    return filename[start:stop]\n",
    "\n",
    "def create_dataframe(filename:str):\n",
    "    '''Create a panda dataframe containing the data from the given file (filename) and add two columns : \n",
    "        the month and the aggregation level of the data'''\n",
    "    \n",
    "    month=filename[:3]\n",
    "    agg_level=extract_agg_level(filename)\n",
    "    df=pd.read_csv(data_path+filename,usecols=['energy_tot', 'fat', 'saturate', 'sugar', 'protein', 'carb', 'fibre', 'h_nutrients_calories'])\n",
    "    df['month']=month\n",
    "    df['agg_level']=agg_level\n",
    "    return df\n",
    "    "
   ]
  },
  {
   "cell_type": "code",
   "execution_count": 86,
   "metadata": {},
   "outputs": [
    {
     "data": {
      "text/html": [
       "<div>\n",
       "<style scoped>\n",
       "    .dataframe tbody tr th:only-of-type {\n",
       "        vertical-align: middle;\n",
       "    }\n",
       "\n",
       "    .dataframe tbody tr th {\n",
       "        vertical-align: top;\n",
       "    }\n",
       "\n",
       "    .dataframe thead th {\n",
       "        text-align: right;\n",
       "    }\n",
       "</style>\n",
       "<table border=\"1\" class=\"dataframe\">\n",
       "  <thead>\n",
       "    <tr style=\"text-align: right;\">\n",
       "      <th></th>\n",
       "      <th>fat</th>\n",
       "      <th>saturate</th>\n",
       "      <th>sugar</th>\n",
       "      <th>protein</th>\n",
       "      <th>carb</th>\n",
       "      <th>fibre</th>\n",
       "      <th>energy_tot</th>\n",
       "      <th>h_nutrients_calories</th>\n",
       "      <th>month</th>\n",
       "      <th>agg_level</th>\n",
       "    </tr>\n",
       "  </thead>\n",
       "  <tbody>\n",
       "    <tr>\n",
       "      <th>0</th>\n",
       "      <td>8.458041</td>\n",
       "      <td>3.357529</td>\n",
       "      <td>9.187517</td>\n",
       "      <td>5.190379</td>\n",
       "      <td>15.656163</td>\n",
       "      <td>1.609087</td>\n",
       "      <td>165.206732</td>\n",
       "      <td>1.623542</td>\n",
       "      <td>Apr</td>\n",
       "      <td>borough</td>\n",
       "    </tr>\n",
       "    <tr>\n",
       "      <th>1</th>\n",
       "      <td>9.268406</td>\n",
       "      <td>3.607954</td>\n",
       "      <td>10.683555</td>\n",
       "      <td>5.150597</td>\n",
       "      <td>20.499594</td>\n",
       "      <td>1.580891</td>\n",
       "      <td>190.223194</td>\n",
       "      <td>1.533326</td>\n",
       "      <td>Apr</td>\n",
       "      <td>borough</td>\n",
       "    </tr>\n",
       "    <tr>\n",
       "      <th>2</th>\n",
       "      <td>8.482420</td>\n",
       "      <td>3.361327</td>\n",
       "      <td>9.287471</td>\n",
       "      <td>5.065980</td>\n",
       "      <td>16.725509</td>\n",
       "      <td>1.625202</td>\n",
       "      <td>168.236571</td>\n",
       "      <td>1.585315</td>\n",
       "      <td>Apr</td>\n",
       "      <td>borough</td>\n",
       "    </tr>\n",
       "    <tr>\n",
       "      <th>3</th>\n",
       "      <td>9.102892</td>\n",
       "      <td>3.476263</td>\n",
       "      <td>10.998802</td>\n",
       "      <td>5.215320</td>\n",
       "      <td>19.869426</td>\n",
       "      <td>1.645999</td>\n",
       "      <td>186.747871</td>\n",
       "      <td>1.550169</td>\n",
       "      <td>Apr</td>\n",
       "      <td>borough</td>\n",
       "    </tr>\n",
       "    <tr>\n",
       "      <th>4</th>\n",
       "      <td>9.250013</td>\n",
       "      <td>3.695182</td>\n",
       "      <td>10.120945</td>\n",
       "      <td>5.076840</td>\n",
       "      <td>18.526026</td>\n",
       "      <td>1.569537</td>\n",
       "      <td>181.971932</td>\n",
       "      <td>1.546401</td>\n",
       "      <td>Apr</td>\n",
       "      <td>borough</td>\n",
       "    </tr>\n",
       "  </tbody>\n",
       "</table>\n",
       "</div>"
      ],
      "text/plain": [
       "        fat  saturate      sugar   protein       carb     fibre  energy_tot  \\\n",
       "0  8.458041  3.357529   9.187517  5.190379  15.656163  1.609087  165.206732   \n",
       "1  9.268406  3.607954  10.683555  5.150597  20.499594  1.580891  190.223194   \n",
       "2  8.482420  3.361327   9.287471  5.065980  16.725509  1.625202  168.236571   \n",
       "3  9.102892  3.476263  10.998802  5.215320  19.869426  1.645999  186.747871   \n",
       "4  9.250013  3.695182  10.120945  5.076840  18.526026  1.569537  181.971932   \n",
       "\n",
       "   h_nutrients_calories month agg_level  \n",
       "0              1.623542   Apr   borough  \n",
       "1              1.533326   Apr   borough  \n",
       "2              1.585315   Apr   borough  \n",
       "3              1.550169   Apr   borough  \n",
       "4              1.546401   Apr   borough  "
      ]
     },
     "execution_count": 86,
     "metadata": {},
     "output_type": "execute_result"
    }
   ],
   "source": [
    "#extract and aggregate all the data from the data folder\n",
    "all_data=[]\n",
    "for file_name in files_csv:\n",
    "    all_data.append(create_dataframe(file_name))\n",
    "result=pd.concat(all_data)\n",
    "result.head()"
   ]
  }
 ],
 "metadata": {
  "kernelspec": {
   "display_name": "Python 3",
   "language": "python",
   "name": "python3"
  },
  "language_info": {
   "codemirror_mode": {
    "name": "ipython",
    "version": 3
   },
   "file_extension": ".py",
   "mimetype": "text/x-python",
   "name": "python",
   "nbconvert_exporter": "python",
   "pygments_lexer": "ipython3",
   "version": "3.7.6"
  }
 },
 "nbformat": 4,
 "nbformat_minor": 4
}
